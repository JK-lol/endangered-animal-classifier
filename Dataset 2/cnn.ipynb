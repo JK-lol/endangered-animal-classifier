{
 "cells": [
  {
   "cell_type": "code",
   "execution_count": 27,
   "metadata": {},
   "outputs": [],
   "source": [
    "import torch\n",
    "import torch.nn as nn\n",
    "from sklearn.metrics import classification_report, confusion_matrix\n",
    "from sklearn.model_selection import train_test_split\n",
    "from sklearn.preprocessing import LabelEncoder\n",
    "from torchvision import transforms\n",
    "from torch.utils.data import DataLoader, TensorDataset\n",
    "from efficientnet_pytorch import EfficientNet\n",
    "from torchvision.models import densenet121, vgg16, inception_v3"
   ]
  },
  {
   "cell_type": "code",
   "execution_count": 28,
   "metadata": {},
   "outputs": [],
   "source": [
    "import os\n",
    "import pickle\n",
    "from PIL import Image\n",
    "import numpy as np\n",
    "from collections import Counter\n",
    "from sklearn.preprocessing import StandardScaler, LabelEncoder\n"
   ]
  },
  {
   "cell_type": "code",
   "execution_count": 29,
   "metadata": {},
   "outputs": [],
   "source": [
    "# Load y_train\n",
    "with open('y_train.pkl', 'rb') as f:\n",
    "    y_train = pickle.load(f)\n",
    "\n",
    "# Load y_test\n",
    "with open('y_test.pkl', 'rb') as f:\n",
    "    y_test = pickle.load(f)\n",
    "\n",
    "# Load flattened features from the second pickle file\n",
    "with open('flattened_vgg16.pkl', 'rb') as file:\n",
    "    X_train_extracted1 = pickle.load(file)\n",
    "\n",
    "# Load flattened features from the second pickle file\n",
    "with open('flattened_vgg16_testing.pkl', 'rb') as file:\n",
    "    X_test_extracted1 = pickle.load(file)\n",
    "\n",
    "# Load flattened features from the second pickle file\n",
    "with open('flattened_efficientnetb2.pkl', 'rb') as file:\n",
    "    X_train_extracted2 = pickle.load(file)\n",
    "\n",
    "# Load flattened features from the second pickle file\n",
    "with open('flattened_efficientnetb2_testing.pkl', 'rb') as file:\n",
    "    X_test_extracted2 = pickle.load(file)\n",
    "\n",
    "X_train_extracted = np.concatenate((X_train_extracted1, X_train_extracted2), axis=1)\n",
    "X_test_extracted = np.concatenate((X_test_extracted1, X_test_extracted2), axis=1)\n"
   ]
  },
  {
   "cell_type": "code",
   "execution_count": 30,
   "metadata": {},
   "outputs": [],
   "source": [
    "num_classes = 12"
   ]
  },
  {
   "cell_type": "code",
   "execution_count": 31,
   "metadata": {},
   "outputs": [],
   "source": [
    "le = LabelEncoder()\n",
    "y_train = le.fit_transform(y_train)\n",
    "y_test = le.fit_transform(y_test)"
   ]
  },
  {
   "cell_type": "code",
   "execution_count": 32,
   "metadata": {},
   "outputs": [],
   "source": [
    "import torch\n",
    "from sklearn.preprocessing import StandardScaler\n",
    "\n",
    "# Assuming X_train_extracted and X_test_extracted are NumPy arrays\n",
    "\n",
    "# Initialize StandardScaler\n",
    "scaler = StandardScaler()\n",
    "\n",
    "# Fit and transform on training data, then transform test data\n",
    "X_train_scaled = scaler.fit_transform(X_train_extracted)\n",
    "X_test_scaled = scaler.transform(X_test_extracted)\n",
    "\n",
    "# Convert NumPy arrays to PyTorch tensors\n",
    "X_train_tensor = torch.tensor(X_train_scaled, dtype=torch.float32)\n",
    "X_test_tensor = torch.tensor(X_test_scaled, dtype=torch.float32)\n",
    "y_train_tensor = torch.tensor(y_train, dtype=torch.long)\n",
    "y_test_tensor = torch.tensor(y_test, dtype=torch.long)\n"
   ]
  },
  {
   "cell_type": "code",
   "execution_count": 33,
   "metadata": {},
   "outputs": [],
   "source": [
    "import torch\n",
    "import torch.nn as nn\n",
    "import torch.optim as optim\n",
    "from torch.utils.data import Dataset, DataLoader\n",
    "from sklearn.model_selection import train_test_split\n",
    "from sklearn.preprocessing import StandardScaler, LabelEncoder\n",
    "import numpy as np\n",
    "\n",
    "\n",
    "class CustomDataset(Dataset):\n",
    "    def __init__(self, X, y):\n",
    "        self.X = X\n",
    "        self.y = y\n",
    "        \n",
    "    def __len__(self):\n",
    "        return len(self.X)\n",
    "    \n",
    "    def __getitem__(self, idx):\n",
    "        return self.X[idx], self.y[idx]\n",
    "\n",
    "# Assuming X_train_extracted, y_train are already defined\n",
    "# Split the training data into training and validation sets\n",
    "X_train, X_val, y_train, y_val = train_test_split(X_train_tensor, y_train_tensor, test_size=0.4, random_state=42)\n",
    "\n",
    "\n",
    "\n",
    "# Create custom datasets and data loaders\n",
    "train_dataset = CustomDataset(X_train, y_train)\n",
    "val_dataset = CustomDataset(X_val, y_val)\n",
    "test_dataset = CustomDataset(X_test_tensor, y_test_tensor)\n",
    "\n",
    "\n",
    "train_loader = DataLoader(dataset=train_dataset, batch_size=64, shuffle=True)\n",
    "val_loader = DataLoader(dataset=val_dataset, batch_size=64, shuffle=False)\n",
    "test_loader = DataLoader(dataset=test_dataset, batch_size=64, shuffle=False)\n",
    "\n"
   ]
  },
  {
   "cell_type": "code",
   "execution_count": 34,
   "metadata": {},
   "outputs": [
    {
     "data": {
      "text/plain": [
       "torch.Size([1144, 26496])"
      ]
     },
     "execution_count": 34,
     "metadata": {},
     "output_type": "execute_result"
    }
   ],
   "source": [
    "X_train.shape"
   ]
  },
  {
   "cell_type": "code",
   "execution_count": 47,
   "metadata": {},
   "outputs": [],
   "source": [
    "class SimpleCNN(nn.Module):\n",
    "    def __init__(self, num_classes):\n",
    "        super(SimpleCNN, self).__init__()\n",
    "        self.conv1 = nn.Conv1d(1, 32, kernel_size=3, stride=1, padding=1)\n",
    "        self.bn1 = nn.BatchNorm1d(32)\n",
    "        self.relu = nn.ReLU()\n",
    "        self.pool = nn.MaxPool1d(kernel_size=2, stride=2)\n",
    "        self.conv2 = nn.Conv1d(32, 64, kernel_size=3, stride=1, padding=1)\n",
    "        self.bn2 = nn.BatchNorm1d(64)\n",
    "        self.flatten = nn.Flatten()\n",
    "        self.fc1 = nn.Linear(26496 // 4 * 64, 128)\n",
    "        self.bn3 = nn.BatchNorm1d(128)\n",
    "        self.dropout = nn.Dropout(0.7)  # Dropout with 50% probability\n",
    "        self.fc2 = nn.Linear(128, num_classes)\n",
    "\n",
    "    def forward(self, x):\n",
    "        x = x.view(-1, 1, x.shape[1])  # Reshape to (batch_size, channels, sequence_length)\n",
    "        x = self.conv1(x)\n",
    "        x = self.bn1(x)\n",
    "        x = self.relu(x)\n",
    "        x = self.pool(x)\n",
    "        x = self.conv2(x)\n",
    "        x = self.bn2(x)\n",
    "        x = self.relu(x)\n",
    "        x = self.pool(x)\n",
    "        x = self.flatten(x)\n",
    "        x = self.fc1(x)\n",
    "        x = self.bn3(x)\n",
    "        x = self.relu(x)\n",
    "        x = self.dropout(x)\n",
    "        x = self.fc2(x)\n",
    "        return x\n"
   ]
  },
  {
   "cell_type": "code",
   "execution_count": 48,
   "metadata": {},
   "outputs": [],
   "source": [
    "model = SimpleCNN(num_classes)\n",
    "criterion = nn.CrossEntropyLoss()\n",
    "optimizer = torch.optim.Adam(model.parameters(), lr=0.001)"
   ]
  },
  {
   "cell_type": "code",
   "execution_count": 49,
   "metadata": {},
   "outputs": [
    {
     "data": {
      "text/plain": [
       "SimpleCNN(\n",
       "  (conv1): Conv1d(1, 32, kernel_size=(3,), stride=(1,), padding=(1,))\n",
       "  (bn1): BatchNorm1d(32, eps=1e-05, momentum=0.1, affine=True, track_running_stats=True)\n",
       "  (relu): ReLU()\n",
       "  (pool): MaxPool1d(kernel_size=2, stride=2, padding=0, dilation=1, ceil_mode=False)\n",
       "  (conv2): Conv1d(32, 64, kernel_size=(3,), stride=(1,), padding=(1,))\n",
       "  (bn2): BatchNorm1d(64, eps=1e-05, momentum=0.1, affine=True, track_running_stats=True)\n",
       "  (flatten): Flatten(start_dim=1, end_dim=-1)\n",
       "  (fc1): Linear(in_features=423936, out_features=128, bias=True)\n",
       "  (bn3): BatchNorm1d(128, eps=1e-05, momentum=0.1, affine=True, track_running_stats=True)\n",
       "  (dropout): Dropout(p=0.7, inplace=False)\n",
       "  (fc2): Linear(in_features=128, out_features=12, bias=True)\n",
       ")"
      ]
     },
     "execution_count": 49,
     "metadata": {},
     "output_type": "execute_result"
    }
   ],
   "source": [
    "# Move model to GPU if available\n",
    "device = torch.device(\"cuda\" if torch.cuda.is_available() else \"cpu\")\n",
    "model.to(device)\n"
   ]
  },
  {
   "cell_type": "code",
   "execution_count": 50,
   "metadata": {},
   "outputs": [
    {
     "name": "stdout",
     "output_type": "stream",
     "text": [
      "Epoch [1/10], Training Loss: 1.9328, Training Accuracy: 0.4056, Validation Loss: 1.7822, Validation Accuracy: 0.7173\n",
      "Epoch [2/10], Training Loss: 1.2844, Training Accuracy: 0.7220, Validation Loss: 1.9494, Validation Accuracy: 0.5694\n",
      "Epoch [3/10], Training Loss: 0.7672, Training Accuracy: 0.9213, Validation Loss: 1.0228, Validation Accuracy: 0.9490\n",
      "Epoch [4/10], Training Loss: 0.5144, Training Accuracy: 0.9528, Validation Loss: 0.4895, Validation Accuracy: 0.9817\n",
      "Epoch [5/10], Training Loss: 0.3437, Training Accuracy: 0.9843, Validation Loss: 0.3492, Validation Accuracy: 0.9869\n",
      "Epoch [6/10], Training Loss: 0.2390, Training Accuracy: 0.9904, Validation Loss: 0.2879, Validation Accuracy: 0.9895\n",
      "Epoch [7/10], Training Loss: 0.1957, Training Accuracy: 0.9930, Validation Loss: 0.2113, Validation Accuracy: 0.9948\n",
      "Epoch [8/10], Training Loss: 0.1629, Training Accuracy: 0.9965, Validation Loss: 0.1672, Validation Accuracy: 0.9974\n",
      "Epoch [9/10], Training Loss: 0.1310, Training Accuracy: 0.9974, Validation Loss: 0.1554, Validation Accuracy: 0.9961\n",
      "Epoch [10/10], Training Loss: 0.1086, Training Accuracy: 0.9983, Validation Loss: 0.1276, Validation Accuracy: 0.9974\n",
      "Accuracy on Testing Set: 0.8750\n"
     ]
    }
   ],
   "source": [
    "# Training the model\n",
    "num_epochs = 10\n",
    "\n",
    "best_validation_accuracy = 0.0  # Track the best validation accuracy\n",
    "\n",
    "for epoch in range(num_epochs):\n",
    "    model.train()\n",
    "    train_loss = 0.0\n",
    "    correct_train = 0\n",
    "    total_train = 0\n",
    "    for inputs, labels in train_loader:\n",
    "        inputs, labels = inputs.to(device), labels.to(device)  # Move data to GPU\n",
    "        optimizer.zero_grad()\n",
    "        outputs = model(inputs)\n",
    "        loss = criterion(outputs, labels)\n",
    "        loss.backward()\n",
    "        optimizer.step()\n",
    "        train_loss += loss.item()\n",
    "        _, predicted_train = outputs.max(1)\n",
    "        total_train += labels.size(0)\n",
    "        correct_train += predicted_train.eq(labels).sum().item()\n",
    "\n",
    "    # Calculate training accuracy\n",
    "    accuracy_train = correct_train / total_train\n",
    "\n",
    "    # Validation\n",
    "    model.eval()\n",
    "    with torch.no_grad():\n",
    "        val_loss = 0.0\n",
    "        correct_val = 0\n",
    "        total_val = 0\n",
    "        for inputs, labels in val_loader:\n",
    "            inputs, labels = inputs.to(device), labels.to(device)  # Move data to GPU\n",
    "            outputs = model(inputs)\n",
    "            val_loss += criterion(outputs, labels).item()\n",
    "            _, predicted_val = outputs.max(1)\n",
    "            total_val += labels.size(0)\n",
    "            correct_val += predicted_val.eq(labels).sum().item()\n",
    "\n",
    "        # Calculate validation accuracy\n",
    "        accuracy_val = correct_val / total_val\n",
    "\n",
    "        print(f'Epoch [{epoch + 1}/{num_epochs}], Training Loss: {train_loss / len(train_loader):.4f}, '\n",
    "              f'Training Accuracy: {accuracy_train:.4f}, '\n",
    "              f'Validation Loss: {val_loss / len(val_loader):.4f}, '\n",
    "              f'Validation Accuracy: {accuracy_val:.4f}')\n",
    "\n",
    "        # Save the model with the best validation accuracy\n",
    "        if accuracy_val > best_validation_accuracy:\n",
    "            best_validation_accuracy = accuracy_val\n",
    "            torch.save(model.state_dict(), 'best_model.pt')\n",
    "\n",
    "# Load the best model\n",
    "model.load_state_dict(torch.load('best_model.pt'))\n",
    "\n",
    "# Evaluate the model on the testing set\n",
    "model.eval()\n",
    "with torch.no_grad():\n",
    "    test_loss = 0.0\n",
    "    correct_test = 0\n",
    "    total_test = 0\n",
    "    for inputs, labels in test_loader:\n",
    "        inputs, labels = inputs.to(device), labels.to(device)  # Move data to GPU\n",
    "        outputs = model(inputs)\n",
    "        test_loss += criterion(outputs, labels).item()\n",
    "        _, predicted_test = outputs.max(1)\n",
    "        total_test += labels.size(0)\n",
    "        correct_test += predicted_test.eq(labels).sum().item()\n",
    "\n",
    "    accuracy_test = correct_test / total_test\n",
    "\n",
    "    print(f'Accuracy on Testing Set: {accuracy_test:.4f}')\n"
   ]
  },
  {
   "cell_type": "code",
   "execution_count": 51,
   "metadata": {},
   "outputs": [
    {
     "data": {
      "image/png": "[encoded data removed]",
      "text/plain": [
       "<Figure size 1000x800 with 2 Axes>"
      ]
     },
     "metadata": {},
     "output_type": "display_data"
    }
   ],
   "source": [
    "import matplotlib.pyplot as plt\n",
    "from sklearn.metrics import confusion_matrix\n",
    "import seaborn as sns\n",
    "\n",
    "# Evaluate the model on the testing set\n",
    "model.eval()\n",
    "predicted_labels = []\n",
    "true_labels = []\n",
    "\n",
    "with torch.no_grad():\n",
    "    for inputs, labels in test_loader:\n",
    "        inputs, labels = inputs.to(device), labels.to(device)  # Move data to GPU\n",
    "        outputs = model(inputs)\n",
    "        _, predicted = outputs.max(1)\n",
    "        predicted_labels.extend(predicted.cpu().numpy())\n",
    "        true_labels.extend(labels.cpu().numpy())\n",
    "\n",
    "# Compute confusion matrix\n",
    "conf_matrix = confusion_matrix(true_labels, predicted_labels)\n",
    "\n",
    "# Plot confusion matrix\n",
    "plt.figure(figsize=(10, 8))\n",
    "sns.heatmap(conf_matrix, annot=True, fmt='d', cmap='Blues', xticklabels=le.classes_, yticklabels=le.classes_)\n",
    "plt.xlabel('Predicted labels')\n",
    "plt.ylabel('True labels')\n",
    "plt.title('Confusion Matrix')\n",
    "plt.show()"
   ]
  },
  {
   "cell_type": "code",
   "execution_count": 52,
   "metadata": {},
   "outputs": [
    {
     "name": "stdout",
     "output_type": "stream",
     "text": [
      "               precision    recall  f1-score   support\n",
      "\n",
      "      cheetah     0.8571    1.0000    0.9231         6\n",
      "     elephant     1.0000    0.9000    0.9474        10\n",
      "       iguana     1.0000    0.7500    0.8571         8\n",
      "       jaguar     0.7500    0.9000    0.8182        10\n",
      "komodo dragon     1.0000    0.8333    0.9091         6\n",
      "        lemur     0.8571    0.8571    0.8571         7\n",
      "        okapi     0.8000    0.8000    0.8000         5\n",
      "   orang utan     0.6250    1.0000    0.7692         5\n",
      "        panda     1.0000    0.8000    0.8889         5\n",
      "         puma     0.7500    1.0000    0.8571         3\n",
      "    red panda     1.0000    1.0000    1.0000         4\n",
      "      tapirus     1.0000    0.8182    0.9000        11\n",
      "\n",
      "     accuracy                         0.8750        80\n",
      "    macro avg     0.8866    0.8882    0.8773        80\n",
      " weighted avg     0.9002    0.8750    0.8783        80\n",
      "\n"
     ]
    }
   ],
   "source": [
    "from sklearn.metrics import classification_report\n",
    "\n",
    "# Print classification report\n",
    "print(classification_report(true_labels, predicted_labels, target_names=le.classes_, digits=4))\n"
   ]
  }
 ],
 "metadata": {
  "kernelspec": {
   "display_name": "Python 3",
   "language": "python",
   "name": "python3"
  },
  "language_info": {
   "codemirror_mode": {
    "name": "ipython",
    "version": 3
   },
   "file_extension": ".py",
   "mimetype": "text/x-python",
   "name": "python",
   "nbconvert_exporter": "python",
   "pygments_lexer": "ipython3",
   "version": "3.11.4"
  }
 },
 "nbformat": 4,
 "nbformat_minor": 2
}
